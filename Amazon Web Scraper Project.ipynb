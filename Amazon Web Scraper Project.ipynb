{
 "cells": [
  {
   "cell_type": "code",
   "execution_count": 1,
   "id": "6c613619",
   "metadata": {},
   "outputs": [],
   "source": [
    "#import libraries\n",
    "from bs4 import BeautifulSoup #Thư viện BeautifulSoup được sử dụng để trích xuất dữ liệu từ các tệp HTML hoặc XML\n",
    "import requests #Thư viện requests được sử dụng để thực hiện các yêu cầu HTTP trong Python.\n",
    "import time\n",
    "import datetime\n",
    "import smtplib # SMTPlib là một thư viện trong Python được sử dụng để gửi email thông qua giao thức SMTP\n",
    "\n"
   ]
  },
  {
   "cell_type": "code",
   "execution_count": 2,
   "id": "5f654ab4",
   "metadata": {},
   "outputs": [
    {
     "name": "stdout",
     "output_type": "stream",
     "text": [
      "\n",
      "             SanDisk 128GB microSDXC-Card, Licensed for Nintendo-Switch - SDSQXAO-128G-GNCZN\n",
      "            \n",
      "<span class=\"a-offscreen\">\n",
      "                            $14.99\n",
      "                           </span>\n"
     ]
    }
   ],
   "source": [
    "URL = 'https://www.amazon.com/SanDisk-MicroSDXC-Nintendo-Switch-SDSQXAO-128G-GNCZN/dp/B07KXQX3S3/ref=sr_1_1?qid=1705765159&s=electronics&sr=1-1&th=1'\n",
    "\n",
    "headers = {\"User-Agent\": \"Mozilla/5.0 (Windows NT 10.0; Win64; x64) AppleWebKit/537.36 (KHTML, like Gecko) Chrome/78.0.3904.108 Safari/537.36\", \"Accept-Encoding\":\"gzip, deflate\", \"Accept\":\"text/html,application/xhtml+xml,application/xml;q=0.9,*/*;q=0.8\", \"DNT\":\"1\",\"Connection\":\"close\", \"Upgrade-Insecure-Requests\":\"1\"}\n",
    "\n",
    "page = requests.get(URL, headers=headers)\n",
    "\n",
    "soup1 = BeautifulSoup(page.content, \"html.parser\")\n",
    "\n",
    "soup2 = BeautifulSoup(soup1.prettify(), \"html.parser\")\n",
    "\n",
    "title = soup2.find(id='productTitle').get_text()\n",
    "\n",
    "#price = soup2.find(id='priceblock_ourprice').get_text()\n",
    "\n",
    "price = soup2.find('span', class_='a-offscreen')\n",
    "print(title)\n",
    "print(price)\n",
    "#price = soup2.find_all('span', {'class': 'a-offscreen'}) #trường hợp giá nằm trong khoảng"
   ]
  },
  {
   "cell_type": "code",
   "execution_count": 3,
   "id": "0263c641",
   "metadata": {},
   "outputs": [
    {
     "name": "stdout",
     "output_type": "stream",
     "text": [
      "Price: 14.99\n",
      "SanDisk 128GB microSDXC-Card, Licensed for Nintendo-Switch - SDSQXAO-128G-GNCZN\n",
      "14.99\n"
     ]
    },
    {
     "data": {
      "text/plain": [
       "str"
      ]
     },
     "execution_count": 3,
     "metadata": {},
     "output_type": "execute_result"
    }
   ],
   "source": [
    "if price is not None:\n",
    "    price = price.text.strip()[1:]\n",
    "    print(f\"Price: {price}\")\n",
    "else:\n",
    "    print(\"Price not found.\")\n",
    "title=title.strip()\n",
    "print(title)\n",
    "print(price)\n",
    "type(price)"
   ]
  },
  {
   "cell_type": "code",
   "execution_count": 4,
   "id": "07ba952f",
   "metadata": {},
   "outputs": [],
   "source": [
    "import csv\n",
    "header=['Title','Price']\n",
    "data=[title,price]\n",
    "with open ('AmazonWebScraperDataset.csv','w',newline ='',encoding ='UTF8') as f:\n",
    "   #Nếu file đã tồn tại, nó sẽ bị ghi đè. Tham số 'w' là để mở file để ghi\n",
    "   #newline='' giúp tránh tình trạng thêm dòng trống giữa các dòng khi ghi file \n",
    "   #encoding='UTF8' là để đảm bảo mã hóa UTF-8 được sử dụng để hỗ trợ các ký tự đặc biệt\n",
    "    writer = csv.writer(f)\n",
    "    writer.writerow(header)\n",
    "    writer.writerow(data)"
   ]
  },
  {
   "cell_type": "code",
   "execution_count": 6,
   "id": "b52df3fe",
   "metadata": {},
   "outputs": [
    {
     "name": "stdout",
     "output_type": "stream",
     "text": [
      "2024-01-21\n"
     ]
    }
   ],
   "source": [
    "import datetime\n",
    "today =datetime.date.today()\n",
    "print (today)"
   ]
  },
  {
   "cell_type": "code",
   "execution_count": 7,
   "id": "9e7abb30",
   "metadata": {},
   "outputs": [],
   "source": [
    "import csv\n",
    "header=['Title','Price','Date']\n",
    "data=[title,price,today]\n",
    "with open ('AmazonWebScraperDataset.csv','w',newline ='',encoding ='UTF8') as f:\n",
    "   #Nếu file đã tồn tại, nó sẽ bị ghi đè. Tham số 'w' là để mở file để ghi\n",
    "   #newline='' giúp tránh tình trạng thêm dòng trống giữa các dòng khi ghi file \n",
    "   #encoding='UTF8' là để đảm bảo mã hóa UTF-8 được sử dụng để hỗ trợ các ký tự đặc biệt\n",
    "    writer = csv.writer(f)\n",
    "    writer.writerow(header)\n",
    "    writer.writerow(data)\n"
   ]
  },
  {
   "cell_type": "code",
   "execution_count": 12,
   "id": "6a4826c0",
   "metadata": {},
   "outputs": [
    {
     "name": "stdout",
     "output_type": "stream",
     "text": [
      "                                               Title  Price        Date\n",
      "0  SanDisk 128GB microSDXC-Card, Licensed for Nin...  14.99  2024-01-21\n",
      "1  SanDisk 128GB microSDXC-Card, Licensed for Nin...  14.99  2024-01-21\n"
     ]
    }
   ],
   "source": [
    "import pandas as pd\n",
    "df=pd.read_csv(r'C:\\Users\\ttknh\\AmazonWebScraperDataset.csv')\n",
    "print(df)"
   ]
  },
  {
   "cell_type": "code",
   "execution_count": 9,
   "id": "826fea48",
   "metadata": {},
   "outputs": [],
   "source": [
    "with open ('AmazonWebScraperDataset.csv','a+',newline ='',encoding ='UTF8') as f: #'a+' là append mode\n",
    "    writer = csv.writer(f)\n",
    "    writer.writerow(data)"
   ]
  },
  {
   "cell_type": "code",
   "execution_count": 10,
   "id": "d0981d11",
   "metadata": {},
   "outputs": [],
   "source": [
    "def check_price():\n",
    "    URL = 'https://www.amazon.com/SanDisk-MicroSDXC-Nintendo-Switch-SDSQXAO-128G-GNCZN/dp/B07KXQX3S3/ref=sr_1_1?qid=1705765159&s=electronics&sr=1-1&th=1'\n",
    "\n",
    "    headers = {\"User-Agent\": \"Mozilla/5.0 (Windows NT 10.0; Win64; x64) AppleWebKit/537.36 (KHTML, like Gecko) Chrome/78.0.3904.108 Safari/537.36\", \"Accept-Encoding\":\"gzip, deflate\", \"Accept\":\"text/html,application/xhtml+xml,application/xml;q=0.9,*/*;q=0.8\", \"DNT\":\"1\",\"Connection\":\"close\", \"Upgrade-Insecure-Requests\":\"1\"}\n",
    "\n",
    "    page = requests.get(URL, headers=headers)\n",
    "\n",
    "    soup1 = BeautifulSoup(page.content, \"html.parser\")\n",
    "\n",
    "    soup2 = BeautifulSoup(soup1.prettify(), \"html.parser\")\n",
    "\n",
    "    title = soup2.find(id='productTitle').get_text()\n",
    "\n",
    "    price = soup2.find('span', class_='a-offscreen')\n",
    "    price = price.get_text().strip()[1:]\n",
    "    title=title.strip()\n",
    "    import datetime\n",
    "    today =datetime.date.today()\n",
    "    import csv\n",
    "    header=['Title','Price','Date']\n",
    "    data=[title,price,today]\n",
    "    with open ('AmazonWebScraperDataset.csv','a+',newline ='',encoding ='UTF8') as f: #'a+' là append mode\n",
    "        writer = csv.writer(f)\n",
    "        writer.writerow(data)"
   ]
  },
  {
   "cell_type": "code",
   "execution_count": null,
   "id": "e9149484",
   "metadata": {},
   "outputs": [],
   "source": [
    "while(True):\n",
    "    check_price()\n",
    "    time.sleep(86400)"
   ]
  },
  {
   "cell_type": "code",
   "execution_count": 14,
   "id": "dad4b88b",
   "metadata": {},
   "outputs": [
    {
     "name": "stdout",
     "output_type": "stream",
     "text": [
      "                                               Title  Price        Date\n",
      "0  SanDisk 128GB microSDXC-Card, Licensed for Nin...  14.99  2024-01-21\n",
      "1  SanDisk 128GB microSDXC-Card, Licensed for Nin...  14.99  2024-01-21\n"
     ]
    }
   ],
   "source": [
    "import pandas as pd\n",
    "df=pd.read_csv(r'C:\\Users\\ttknh\\AmazonWebScraperDataset.csv')\n",
    "print(df)"
   ]
  },
  {
   "cell_type": "code",
   "execution_count": null,
   "id": "32bb7bc9",
   "metadata": {},
   "outputs": [],
   "source": [
    "def send_mail():\n",
    "    server = smtplib.SMTP_SSL('smtp.gmail.com',465)\n",
    "    server.ehlo()\n",
    "    #server.starttls()\n",
    "    server.ehlo()\n",
    "    server.login('ttkieunhung@gmail.com','xxxxxxxxxxxxxx')\n",
    "    \n",
    "    subject = \"The product you want is below $10! Now is your chance to buy!\"\n",
    "    body = \" This is the moment we have been waiting for. Now is your chance to pick up the shirt of your dreams. Don't mess it up! Link here: https://www.amazon.com/Funny-Data-Systems-Business-Analyst/dp/B07FNW9FGJ/ref=sr_1_3?dchild=1&keywords=data+analyst+tshirt&qid=1626655184&sr=8-3\"\n",
    "   \n",
    "    msg = f\"Subject: {subject}\\n\\n{body}\"\n",
    "    \n",
    "    server.sendmail(\n",
    "        'ttkieunhung@gmail.com',\n",
    "        msg\n",
    "     \n",
    "    )"
   ]
  }
 ],
 "metadata": {
  "kernelspec": {
   "display_name": "Python 3 (ipykernel)",
   "language": "python",
   "name": "python3"
  },
  "language_info": {
   "codemirror_mode": {
    "name": "ipython",
    "version": 3
   },
   "file_extension": ".py",
   "mimetype": "text/x-python",
   "name": "python",
   "nbconvert_exporter": "python",
   "pygments_lexer": "ipython3",
   "version": "3.11.5"
  }
 },
 "nbformat": 4,
 "nbformat_minor": 5
}
